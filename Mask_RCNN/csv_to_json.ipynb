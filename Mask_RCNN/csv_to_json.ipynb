{
 "cells": [
  {
   "cell_type": "code",
   "execution_count": 1,
   "metadata": {
    "collapsed": true
   },
   "outputs": [],
   "source": [
    "import pandas as pd\n",
    "import ast\n",
    "import copy"
   ]
  },
  {
   "cell_type": "markdown",
   "metadata": {},
   "source": [
    "### Load CSV data"
   ]
  },
  {
   "cell_type": "code",
   "execution_count": 2,
   "metadata": {
    "collapsed": true
   },
   "outputs": [],
   "source": [
    "df = pd.read_csv('via_export_csv.csv',header=0)"
   ]
  },
  {
   "cell_type": "markdown",
   "metadata": {},
   "source": [
    "### Check for labels other than specified ones"
   ]
  },
  {
   "cell_type": "code",
   "execution_count": 3,
   "metadata": {
    "collapsed": true
   },
   "outputs": [],
   "source": [
    "for i in range(len(df)):\n",
    "    if ast.literal_eval(df.iloc[i, -1])['name'] != \"class1\":\n",
    "        print(df.iloc[i,0],i)"
   ]
  },
  {
   "cell_type": "code",
   "execution_count": 4,
   "metadata": {},
   "outputs": [],
   "source": [
    "len(df)"
   ]
  },
  {
   "cell_type": "code",
   "execution_count": 5,
   "metadata": {
    "collapsed": true
   },
   "outputs": [],
   "source": [
    "cols = ['filename',\n",
    "        'file_size',\n",
    "        'file_attributes',\n",
    "        'region_count',\n",
    "        'region_id',\n",
    "        'region_shape_attributes',\n",
    "        'region_attributes']"
   ]
  },
  {
   "cell_type": "code",
   "execution_count": 6,
   "metadata": {
    "collapsed": true,
    "scrolled": true
   },
   "outputs": [],
   "source": [
    "filenames = df['filename'].unique()"
   ]
  },
  {
   "cell_type": "code",
   "execution_count": 7,
   "metadata": {
    "scrolled": true
   },
   "outputs": [],
   "source": [
    "len(filenames)"
   ]
  },
  {
   "cell_type": "markdown",
   "metadata": {},
   "source": [
    "## To convert \n",
    "### *img_name, x, y, width, height, class* \n",
    "### type CSV to df (OPTIONAL, use only if you have this kind of data)"
   ]
  },
  {
   "cell_type": "code",
   "execution_count": 8,
   "metadata": {
    "collapsed": true
   },
   "outputs": [],
   "source": [
    "# Convert to DataFrame\n",
    "# final_data = []\n",
    "# for f in filenames:\n",
    "#     same_files_len = len(df[df['file_name']==f])\n",
    "    \n",
    "#     file_name = [f for _ in range(same_files_len)]\n",
    "#     file_size = [0 for _ in range(same_files_len)]\n",
    "#     region_count = [same_files_len for _ in range(same_files_len)]\n",
    "#     region_id = [i for i in range(same_files_len)]\n",
    "#     file_attributes = ['\"{}\"' for _ in range(same_files_len)]\n",
    "    \n",
    "#     region_attributes = []\n",
    "#     clses = df[df['file_name']==f]['class_name']\n",
    "#     for x in range(len(clses)):\n",
    "#         t = '{\"name\":\"'+clses.iloc[x]+'\"}'\n",
    "#         region_attributes.append(t)\n",
    "        \n",
    "#     region_shape_attributes = []\n",
    "#     attrs = df[df['file_name']==f][['x_max','x_min','y_max','y_min']]\n",
    "#     for x in range(len(attrs)):\n",
    "#         t = '{\"name\":\"rect\",\"x\":'+str(attrs.iloc[x,1])+',\"y\":'+str(attrs.iloc[x,3])+',\"width\":'+str(int(attrs.iloc[x,0])-int(attrs.iloc[x,1]))+',\"height\":'+str(int(attrs.iloc[x,2])-int(attrs.iloc[x,3]))+'}'\n",
    "#         region_shape_attributes.append(t)\n",
    "    \n",
    "#     for a,b,c,d,e,f,g in zip(file_name,file_size,file_attributes,region_count,region_id,region_shape_attributes,region_attributes):\n",
    "#         final_data.append([a,b,c,d,e,f,g])\n",
    "\n",
    "# cols = ['filename',\n",
    "#         'file_size',\n",
    "#         'file_attributes',\n",
    "#         'region_count',\n",
    "#         'region_id',\n",
    "#         'region_shape_attributes',\n",
    "#         'region_attributes']\n",
    "# new_df = pd.DataFrame(final_data)\n",
    "# new_df.columns = cols\n",
    "# new_df.to_csv(\"final_data_via.csv\",index=False)"
   ]
  },
  {
   "cell_type": "markdown",
   "metadata": {},
   "source": [
    "## Separate train val and test"
   ]
  },
  {
   "cell_type": "code",
   "execution_count": 9,
   "metadata": {
    "collapsed": true
   },
   "outputs": [],
   "source": [
    "# Get train val test files\n",
    "# Split by index\n",
    "train_filenames = filenames[:418] \n",
    "val_filenames = filenames[418:434]\n",
    "test_filenames = filenames[434:]\n",
    "\n",
    "train_files = pd.DataFrame(columns=cols)\n",
    "for r in train_filenames:\n",
    "    train_files = train_files.append(new_df[new_df['filename']==r])\n",
    "\n",
    "val_files = pd.DataFrame(columns=cols)\n",
    "for r in val_filenames:\n",
    "    val_files = val_files.append(new_df[new_df['filename']==r])\n",
    "val_files = pd.DataFrame(val_files, columns=cols)"
   ]
  },
  {
   "cell_type": "markdown",
   "metadata": {},
   "source": [
    "## Create JSON for training set"
   ]
  },
  {
   "cell_type": "code",
   "execution_count": 10,
   "metadata": {
    "collapsed": true
   },
   "outputs": [],
   "source": [
    "train_json = {}\n",
    "i=0\n",
    "for f in train_filenames:\n",
    "    same_files = train_files[train_files['filename']==f]\n",
    "    t = {}\n",
    "    t['filename'] = same_files.iloc[0,0]\n",
    "    t['size'] = same_files.iloc[0,1]\n",
    "    \n",
    "    all_regions = []\n",
    "    for x in range(len(same_files)):\n",
    "        t1 = {}\n",
    "        t1['shape_attributes'] = eval(same_files.iloc[x,5])\n",
    "        t1['region_attributes'] = eval(same_files.iloc[x,-1])\n",
    "        all_regions.append(t1)\n",
    "        \n",
    "    t['regions'] = all_regions\n",
    "    \n",
    "    train_json['x'+str(i)] = t\n",
    "    i+=1"
   ]
  },
  {
   "cell_type": "markdown",
   "metadata": {},
   "source": [
    "## Create JSON for validation set"
   ]
  },
  {
   "cell_type": "code",
   "execution_count": 11,
   "metadata": {
    "collapsed": true
   },
   "outputs": [],
   "source": [
    "val_json = {}\n",
    "i=0\n",
    "for f in val_filenames:\n",
    "    same_files = val_files[val_files['filename']==f]\n",
    "    t = {}\n",
    "    t['filename'] = same_files.iloc[0,0]\n",
    "    t['size'] = same_files.iloc[0,1]\n",
    "    \n",
    "    all_regions = []\n",
    "    for x in range(len(same_files)):\n",
    "        t1 = {}\n",
    "        t1['shape_attributes'] = eval(same_files.iloc[x,5])\n",
    "        t1['region_attributes'] = eval(same_files.iloc[x,-1])\n",
    "        all_regions.append(t1)\n",
    "        \n",
    "    t['regions'] = all_regions\n",
    "    \n",
    "    val_json['x'+str(i)] = t\n",
    "    i+=1"
   ]
  },
  {
   "cell_type": "markdown",
   "metadata": {},
   "source": [
    "## Dump train val JSONs"
   ]
  },
  {
   "cell_type": "code",
   "execution_count": 12,
   "metadata": {
    "collapsed": true
   },
   "outputs": [],
   "source": [
    "train_json = str(train_json).replace(\"'\",'\"')\n",
    "val_json = str(val_json).replace(\"'\",'\"')\n",
    "\n",
    "with open('train_json.json','w') as f:\n",
    "    f.write(train_json)\n",
    "    \n",
    "with open('val_json.json','w') as f:\n",
    "    f.write(val_json)"
   ]
  },
  {
   "cell_type": "markdown",
   "metadata": {},
   "source": [
    "## Dump test filenames"
   ]
  },
  {
   "cell_type": "code",
   "execution_count": 13,
   "metadata": {
    "scrolled": true
   },
   "outputs": [],
   "source": [
    "test_filenames"
   ]
  },
  {
   "cell_type": "code",
   "execution_count": 14,
   "metadata": {
    "collapsed": true
   },
   "outputs": [],
   "source": [
    "# Dump validation filenames\n",
    "with open('validation.txt','w') as f:\n",
    "    for i in val_filenames:\n",
    "        f.write(i+'\\n')"
   ]
  }
 ],
 "metadata": {
  "kernelspec": {
   "display_name": "Python 3",
   "language": "python",
   "name": "python3"
  },
  "language_info": {
   "codemirror_mode": {
    "name": "ipython",
    "version": 3
   },
   "file_extension": ".py",
   "mimetype": "text/x-python",
   "name": "python",
   "nbconvert_exporter": "python",
   "pygments_lexer": "ipython3",
   "version": "3.6.1"
  }
 },
 "nbformat": 4,
 "nbformat_minor": 2
}
