{
 "cells": [
  {
   "cell_type": "code",
   "execution_count": 2,
   "metadata": {},
   "outputs": [],
   "source": [
    "from data_util import *\n",
    "from unet_model import *\n",
    "\n",
    "from keras.callbacks import ModelCheckpoint, EarlyStopping"
   ]
  },
  {
   "cell_type": "code",
   "execution_count": 7,
   "metadata": {
    "collapsed": true
   },
   "outputs": [],
   "source": [
    "as_gray = True\n",
    "nclasses = 1\n",
    "\n",
    "steps_per_epoch = 200\n",
    "epochs = 20\n",
    "\n",
    "if not as_gray:\n",
    "    input_shape = (256,256,3)\n",
    "    image_color_mode = 'rgb'\n",
    "    mask_color_mode = 'rgb'\n",
    "else:\n",
    "    input_shape = (256,256,1)\n",
    "    image_color_mode = 'grayscale'\n",
    "    mask_color_mode = 'grayscale'"
   ]
  },
  {
   "cell_type": "code",
   "execution_count": 8,
   "metadata": {},
   "outputs": [
    {
     "name": "stderr",
     "output_type": "stream",
     "text": [
      "/Users/adeshgautam/Desktop/docs/object_detection_seg/unet/unet_model.py:74: UserWarning: Update your `Model` call to the Keras 2 API: `Model(inputs=Tensor(\"in..., outputs=Tensor(\"co...)`\n",
      "  model = Model(input=inp, output=out)\n"
     ]
    }
   ],
   "source": [
    "model = unet(nclasses, input_shape)"
   ]
  },
  {
   "cell_type": "code",
   "execution_count": 5,
   "metadata": {
    "collapsed": true
   },
   "outputs": [],
   "source": [
    "data_gen_args = dict(featurewise_center=True,\n",
    "                    featurewise_std_normalization=True,\n",
    "                    rotation_range=40,\n",
    "                    width_shift_range=0.05,\n",
    "                    height_shift_range=0.05,\n",
    "                    shear_range=0.5,\n",
    "                    zoom_range=0.2,\n",
    "                    horizontal_flip=True,\n",
    "                    vertical_flip=False,\n",
    "                    fill_mode='nearest')\n",
    "\n",
    "myGen = trainGenerator(batch_size=2, \n",
    "                        train_path='dataset/membrane/train', \n",
    "                        image_folder='image', \n",
    "                        mask_folder='label',\n",
    "                        aug_dict=data_gen_args, \n",
    "                        save_to_dir=None,\n",
    "                        image_color_mode=image_color_mode,\n",
    "                        mask_color_mode=mask_color_mode)"
   ]
  },
  {
   "cell_type": "code",
   "execution_count": 6,
   "metadata": {
    "collapsed": true
   },
   "outputs": [],
   "source": [
    "model_checkpoint = ModelCheckpoint('saved_models/unet.h5', monitor='val_loss', verbose=1, save_best_only=True)\n",
    "early_stopping = EarlyStopping(mode='min', monitor='val_loss', patience=6, verbose=1)\n",
    "\n",
    "callbacks = [model_checkpoint, early_stopping]"
   ]
  },
  {
   "cell_type": "code",
   "execution_count": 9,
   "metadata": {},
   "outputs": [],
   "source": [
    "model.fit_generator(myGen, steps_per_epoch=steps_per_epoch, epochs=epochs, callbacks=callbacks)"
   ]
  },
  {
   "cell_type": "code",
   "execution_count": 10,
   "metadata": {
    "collapsed": true
   },
   "outputs": [],
   "source": [
    "test_img_path = 'path/to/test/image'\n",
    "test_img = process_image(test_img_path, target_size=(input_shape[0],input_shape[1]), \n",
    "                        flag_multi_class=False, as_gray=as_gray)\n",
    "\n",
    "prediction = model.predict(test_img)\n",
    "prediction_img = postprocess_img(prediction, flag_multi_class=False, num_classes=nclasses)\n",
    "\n",
    "io.imsave(\"predicted.png\",prediction_img)"
   ]
  }
 ],
 "metadata": {
  "kernelspec": {
   "display_name": "Python 3",
   "language": "python",
   "name": "python3"
  },
  "language_info": {
   "codemirror_mode": {
    "name": "ipython",
    "version": 3
   },
   "file_extension": ".py",
   "mimetype": "text/x-python",
   "name": "python",
   "nbconvert_exporter": "python",
   "pygments_lexer": "ipython3",
   "version": "3.6.1"
  }
 },
 "nbformat": 4,
 "nbformat_minor": 2
}
